{
 "cells": [
  {
   "cell_type": "markdown",
   "metadata": {
    "colab_type": "text",
    "id": "view-in-github"
   },
   "source": [
    "<a href=\"https://colab.research.google.com/github/Jonathan-GUERIN/IMA205/blob/main/TP_ann_mlp_part_2_students.ipynb\" target=\"_parent\"><img src=\"https://colab.research.google.com/assets/colab-badge.svg\" alt=\"Open In Colab\"/></a>"
   ]
  },
  {
   "cell_type": "markdown",
   "metadata": {
    "id": "RIjFqlgERHAq"
   },
   "source": [
    "# IMA-205\n",
    "# TP ANN (part B)\n",
    "\n",
    "## Coding a Multi-Layer Perceptron with Tensorflow\n",
    "Author : Alasdair Newson"
   ]
  },
  {
   "cell_type": "markdown",
   "metadata": {
    "id": "oG_lwX5GRHAs"
   },
   "source": [
    "In the second part of this TP, we will be looking at the Multi-Layer Perceptron (MLP) using Tensorflow (http://www.tensorflow.org)\n",
    "\n",
    "We will be using the following packages :\n",
    "   \n",
    "   - Scikit-learn (http://scikit-learn.org/)\n",
    "   - Tensorflow (http://www.tensorflow.org)\n",
    "\n",
    "The following commands will make sure that you have all the necessary packages"
   ]
  },
  {
   "cell_type": "code",
   "execution_count": 1,
   "metadata": {
    "colab": {
     "base_uri": "https://localhost:8080/"
    },
    "id": "sCGFw05kRHAs",
    "outputId": "91c62365-e27c-4968-87fc-868842073ecb"
   },
   "outputs": [
    {
     "name": "stdout",
     "output_type": "stream",
     "text": [
      "2.12.0\n"
     ]
    }
   ],
   "source": [
    "%matplotlib inline                      \n",
    "\n",
    "import numpy as np\n",
    "import matplotlib.pyplot as plt\n",
    "import os\n",
    "import pdb\n",
    "\n",
    "import sklearn  # scikit-learn\n",
    "import tensorflow as tf\n",
    "\n",
    "# import tensorflow models\n",
    "from tensorflow.keras.models import Sequential, Model\n",
    "from tensorflow.keras.layers import Dense, Dropout, Activation, Flatten, Input\n",
    "from tensorflow.keras.layers import Conv2D, MaxPooling2D\n",
    "from tensorflow.keras import optimizers\n",
    "print(tf.keras.__version__)"
   ]
  },
  {
   "cell_type": "markdown",
   "metadata": {
    "id": "dxgAcMrMRHAt"
   },
   "source": [
    "# 1 - Multi-Layer Perceptron with Tensorflow"
   ]
  },
  {
   "cell_type": "markdown",
   "metadata": {
    "id": "OjK-B5mkRHAt"
   },
   "source": [
    "## Introduction to TensorFlow"
   ]
  },
  {
   "cell_type": "markdown",
   "metadata": {
    "id": "gzVmdesCRHAu"
   },
   "source": [
    "Tensorflow is an environment written by Google which allows easy implementation of deep neural networks. In particular, it provides automatic differentiation so that the user does not have to determine gradients manually, which can be extremely long even for simple networks, as you have seen in the previous TP*.\n",
    "\n",
    "This, in turn allows a user to apply techniques such as stochastic gradient descent for training purposes. The differentiation graph is created symbolically when the network is created. Since a neural network is simply a cascade (or concatenation) of simple functions, the network in Tensorflow is simply a sequence of functions which are applied to one or several variables. The output of the final function is the output of the network.\n",
    "\n",
    "For instance, if the input were ```x``` and the network consisted of two functions ```a``` and ```b```, you could create the network simply by writing :\n",
    "\n",
    "```y = b(a(x))```\n",
    "\n",
    "However, it is clear that these functions and variables must be of some special type, so that the computer can figure out how to carry out the automatic differentiation for training. Tensorflow provides these functions and variables, which must be created with the Tensorflow package.\n",
    "\n",
    "Previously, Tensorflow required a strict separation between the creation (declaration) of variables and their execution (giving a numerical value, using the ```Session``` function). With Keras and Tensorflow 2, this separation has been removed, and the language has become simpler, in particular for creating and training networks.\n",
    "\n",
    "## Creating a network\n",
    "\n",
    "To create a network, there are two (main) methods :\n",
    "\n",
    "### Creating a model using the Sequential API\n",
    "\n",
    "Tensorflow has a simple way of adding layers to create a neural network. First, you can indicate to Tensorflow that the model is 'sequential' (a simple model, with not many tweaks). For this, you can use the following function :\n",
    "- ```model = Sequential()```\n",
    "\n",
    "After this, you can add layers with the function.\n",
    "\n",
    "- ```model.add()```\n",
    "\n",
    "You can then use the ```Dense``` (and other) functions to specify different layer types.  __Note that in the case of this approach, you will have to specify the input image size in the first layer of the network, inside the first layer function.__ So, for example, if the first layer is a dense layer with a relu activation, with n_out output neurons, and n_input neurons :\n",
    "\n",
    "- model = Sequential()\n",
    "- model.add(Dense(n_out,activation,input_shape=(n_in,),activation='relu'))\n",
    "\n",
    "Otherwise, the network does not know how many weights to create. __Be careful of this special case (the first layer)__ \n",
    "\n",
    "### Creating a model using the standard API\n",
    "\n",
    "Otherwise, another approach to creating the model is to explicitly create the input variable, and just cascade the different functions, as in Tensorflow. So, for the same example, we would have :\n",
    "\n",
    "- input = Input(shape=(n_in,))\n",
    "- output = Dense(n_in,n_out,activation='relu')(input)\n",
    "- model = Model(input, output)\n",
    "\n",
    "\n",
    "For now, let's use the Sequential API (however, if you want to try the standard API, go ahead).\n",
    "\n",
    "## Training and testing a network\n",
    "\n",
    "Tensorflow allows the easy training of a network with the following functions :\n",
    "\n",
    "- model.compile(loss='binary_crossentropy', optimizer=optimizers.Adam(lr=learning_rate)) : create the loss function and define the optimiser used. This function can do many other useful things (such as specifying different metrics to look at the model's performance\n",
    "\n",
    "- model.fit(...) : train the model\n",
    "- model.evaluate(...) : test the model\n",
    "- model.predict(...) : carry out a simple forward pass on the model\n",
    "\n",
    "Please look at the Tensorflow documenation for further details on these functions.\n"
   ]
  },
  {
   "cell_type": "markdown",
   "metadata": {
    "id": "UYFxzt5mRHAy"
   },
   "source": [
    "# MLP with TensorFlow\n",
    "\n",
    "We are now going to create an MLP with tensorflow. We will start with an MLP with one hidden layer. The network should consist of the following operations, in the following order :\n",
    "\n",
    "- Fully connected layer, with 50 output neurons\n",
    "- ReLU activation\n",
    "- Fully connected layer, with 50 output neurons\n",
    "- ReLU activation\n",
    "- Fully connected layer, with 1 output neuron (because we have a binary classification problem)\n",
    "- Sigmoid output activation\n",
    "\n",
    "We are going to be solving a binary classification \n",
    "problem, so the output of the network should be a scalar between 0 and 1 (thus the last layer is a Sigmoid activation).\n",
    "\n",
    "The loss function should be defined as the binary cross-entropy between the predicted class and the true class\n"
   ]
  },
  {
   "cell_type": "markdown",
   "metadata": {
    "id": "jdGVzE6NRHAy"
   },
   "source": [
    "First, we load the data."
   ]
  },
  {
   "cell_type": "code",
   "execution_count": 2,
   "metadata": {
    "colab": {
     "base_uri": "https://localhost:8080/",
     "height": 430
    },
    "id": "EfiJwuLmRHAy",
    "outputId": "54ab9880-2fab-41c5-a918-abb1870cad9c"
   },
   "outputs": [
    {
     "data": {
      "image/png": "[encoded data removed]",
      "text/plain": [
       "<Figure size 640x480 with 1 Axes>"
      ]
     },
     "metadata": {},
     "output_type": "display_data"
    }
   ],
   "source": [
    "from sklearn import datasets\n",
    "from sklearn.preprocessing import MinMaxScaler\n",
    "from sklearn.model_selection import train_test_split\n",
    "\n",
    "X, Y = datasets.make_circles(n_samples=1000, noise=0.05, factor=0.5)\n",
    "# X, y = datasets.make_moons(n_samples=1000, random_state=42)  # try with 2 moons\n",
    "X = MinMaxScaler().fit_transform(X)\n",
    "\n",
    "#show data in plot\n",
    "plt.plot(X[Y == 1, 0], X[Y == 1, 1], 'ro')\n",
    "plt.plot(X[Y == 0, 0], X[Y == 0, 1], 'bo')\n",
    "plt.grid('on')"
   ]
  },
  {
   "cell_type": "markdown",
   "metadata": {
    "id": "cRL1c6UyRHAy"
   },
   "source": [
    "We are now going to define some useful auxillary functions.\n",
    "\n",
    "First, a function that shows the decision boundary of our network. This works only for 2D input data"
   ]
  },
  {
   "cell_type": "code",
   "execution_count": 3,
   "metadata": {
    "id": "x0cUhY8xRHAz"
   },
   "outputs": [],
   "source": [
    "# THIS CODE IS GIVEN\n",
    "\n",
    "def plot_decision_function_2d(model_mlp, X, Y):\n",
    "   # create a mesh to plot in\n",
    "    h = .02  # step size in the mesh\n",
    "    offset = 0.1\n",
    "    x_min, x_max = X[:, 0].min() - offset, X[:, 0].max() + offset\n",
    "    y_min, y_max = X[:, 1].min() - offset, X[:, 1].max() + offset\n",
    "    xx, yy = np.meshgrid(np.arange(x_min, x_max, h),\n",
    "                         np.arange(y_min, y_max, h))\n",
    "\n",
    "    # Plot the decision boundary. For that, we will assign a color to each\n",
    "    # point in the mesh [x_min, x_max]x[y_min, y_max].\n",
    "    Z = model_mlp.predict(np.c_[xx.ravel(), yy.ravel()])\n",
    "    print(Z.shape)\n",
    "    print(Z)\n",
    "    \n",
    "    Z = Z<0.5\n",
    "    # Put the result into a color plot\n",
    "    Z = Z.reshape(xx.shape)\n",
    "    plt.figure()\n",
    "    plt.contourf(xx, yy, Z, cmap=plt.cm.Paired)\n",
    "\n",
    "    plt.plot(X[Y == 1, 0], X[Y == 1, 1], 'yo')\n",
    "    plt.plot(X[Y == 0, 0], X[Y == 0, 1], 'ko')\n",
    "\n",
    "    plt.title(\"Decision surface\")\n",
    "    plt.axis('tight')"
   ]
  },
  {
   "cell_type": "markdown",
   "metadata": {
    "id": "CKtZJ5iQRHA0"
   },
   "source": [
    "## CREATING AND TRAINING THE MODEL\n",
    "\n",
    "We are now ready to create our network with a Tensorflow Session and to carry out training on our training dataset."
   ]
  },
  {
   "cell_type": "code",
   "execution_count": 4,
   "metadata": {
    "colab": {
     "base_uri": "https://localhost:8080/"
    },
    "id": "WO8dHtrGRHA0",
    "outputId": "4781da91-2208-4206-8fe7-e6cd3b0c26bd"
   },
   "outputs": [
    {
     "name": "stdout",
     "output_type": "stream",
     "text": [
      "(850, 2)\n",
      "Training\n",
      "Epoch 1/20\n",
      "14/14 [==============================] - 8s 6ms/step - loss: 0.6670 - accuracy: 0.6518\n",
      "Epoch 2/20\n",
      "14/14 [==============================] - 0s 7ms/step - loss: 0.6062 - accuracy: 0.7047\n",
      "Epoch 3/20\n",
      "14/14 [==============================] - 0s 7ms/step - loss: 0.5518 - accuracy: 0.7306\n",
      "Epoch 4/20\n",
      "14/14 [==============================] - 0s 10ms/step - loss: 0.4580 - accuracy: 0.8047\n",
      "Epoch 5/20\n",
      "14/14 [==============================] - 0s 5ms/step - loss: 0.3676 - accuracy: 0.8553\n",
      "Epoch 6/20\n",
      "14/14 [==============================] - 0s 5ms/step - loss: 0.2648 - accuracy: 0.9212\n",
      "Epoch 7/20\n",
      "14/14 [==============================] - 0s 5ms/step - loss: 0.1484 - accuracy: 0.9976\n",
      "Epoch 8/20\n",
      "14/14 [==============================] - 0s 8ms/step - loss: 0.0735 - accuracy: 1.0000\n",
      "Epoch 9/20\n",
      "14/14 [==============================] - 0s 6ms/step - loss: 0.0407 - accuracy: 1.0000\n",
      "Epoch 10/20\n",
      "14/14 [==============================] - 0s 6ms/step - loss: 0.0177 - accuracy: 1.0000\n",
      "Epoch 11/20\n",
      "14/14 [==============================] - 0s 6ms/step - loss: 0.0107 - accuracy: 1.0000\n",
      "Epoch 12/20\n",
      "14/14 [==============================] - 0s 8ms/step - loss: 0.0077 - accuracy: 1.0000\n",
      "Epoch 13/20\n",
      "14/14 [==============================] - 0s 8ms/step - loss: 0.0063 - accuracy: 1.0000\n",
      "Epoch 14/20\n",
      "14/14 [==============================] - 0s 8ms/step - loss: 0.0050 - accuracy: 1.0000\n",
      "Epoch 15/20\n",
      "14/14 [==============================] - 0s 6ms/step - loss: 0.0040 - accuracy: 1.0000\n",
      "Epoch 16/20\n",
      "14/14 [==============================] - 0s 6ms/step - loss: 0.0034 - accuracy: 1.0000\n",
      "Epoch 17/20\n",
      "14/14 [==============================] - 0s 6ms/step - loss: 0.0030 - accuracy: 1.0000\n",
      "Epoch 18/20\n",
      "14/14 [==============================] - 0s 7ms/step - loss: 0.0026 - accuracy: 1.0000\n",
      "Epoch 19/20\n",
      "14/14 [==============================] - 0s 6ms/step - loss: 0.0023 - accuracy: 1.0000\n",
      "Epoch 20/20\n",
      "14/14 [==============================] - 0s 5ms/step - loss: 0.0021 - accuracy: 1.0000\n",
      "Testing\n",
      "5/5 - 0s - loss: 0.0019 - accuracy: 1.0000 - 413ms/epoch - 83ms/step\n"
     ]
    },
    {
     "data": {
      "text/plain": [
       "[0.0018766578286886215, 1.0]"
      ]
     },
     "execution_count": 4,
     "metadata": {},
     "output_type": "execute_result"
    }
   ],
   "source": [
    "# FILL IN CODE BY STUDENTS IN THIS SECTION\n",
    "\n",
    "#We split up the data into training and test data, using a function from Scikit-learn :\n",
    "X_train, X_test, Y_train, Y_test = train_test_split(X, Y, test_size=0.15)\n",
    "print(X_train.shape)\n",
    "\n",
    "# Layer sizes\n",
    "n_input = X.shape[1]  # Number of input features\n",
    "n_hidden = 50  # Number of hidden nodes\n",
    "\n",
    "# create the model (using the sequential API)\n",
    "\n",
    "model_mlp = Sequential([\n",
    "    Dense(n_hidden,input_shape=(n_input,),activation='relu'),\n",
    "    Dense(n_hidden,input_shape=(n_hidden,),activation='relu'),\n",
    "    Dense(1,input_shape=(n_hidden,),activation='sigmoid'),\n",
    "])   # FILL IN STUDENTS\n",
    "\n",
    "# create the loss and optimiser\n",
    "learning_rate = 0.01\n",
    "model_mlp.compile(loss=tf.keras.losses.BinaryCrossentropy(from_logits=False), \n",
    "                  optimizer=tf.keras.optimizers.Adam(learning_rate=learning_rate),\n",
    "                  metrics=[\"accuracy\"]) # TO FILL IN\n",
    "\n",
    "# Run optimisation algorithm\n",
    "n_epochs = 20\n",
    "batch_size = 64\n",
    "\n",
    "print('Training')\n",
    "model_mlp.fit(X_train, Y_train, epochs=n_epochs,batch_size=batch_size) # TO FILL IN\n",
    "\n",
    "print('Testing')\n",
    "model_mlp.evaluate(X_test,  Y_test, verbose=2) # TO FILL IN\n"
   ]
  },
  {
   "cell_type": "code",
   "execution_count": 5,
   "metadata": {
    "colab": {
     "base_uri": "https://localhost:8080/",
     "height": 608
    },
    "id": "lpBaU1rcc0oY",
    "outputId": "d49a62af-00fb-4ba2-c3bd-220a27dadfa4"
   },
   "outputs": [
    {
     "name": "stdout",
     "output_type": "stream",
     "text": [
      "107/107 [==============================] - 0s 1ms/step\n",
      "(3422, 1)\n",
      "[[6.7767034e-14]\n",
      " [1.6706635e-13]\n",
      " [3.7143492e-13]\n",
      " ...\n",
      " [1.8252476e-10]\n",
      " [7.8764349e-11]\n",
      " [3.3988864e-11]]\n"
     ]
    },
    {
     "data": {
      "image/png": "[encoded data removed]",
      "text/plain": [
       "<Figure size 640x480 with 1 Axes>"
      ]
     },
     "metadata": {},
     "output_type": "display_data"
    }
   ],
   "source": [
    "plot_decision_function_2d(model_mlp, X_test, Y_test)"
   ]
  },
  {
   "cell_type": "markdown",
   "metadata": {
    "id": "6oni6Q5vRHA0"
   },
   "source": [
    "# MLP with several hidden layers\n",
    "\n",
    "We are now going to create an MLP with more hidden layers. We are going to use a more complicated dataset : the MNIST dataset, which contains images of handwritten digits. There are 10 classes, one for each digit.\n",
    "\n",
    "We are going to implement the following architecture :\n",
    "\n",
    "- Fully connected layer\n",
    "- Relu activation\n",
    "- Fully connected layer\n",
    "- Relu activation\n",
    "- Fully connected layer\n",
    "- Relu activation\n",
    "- Fully connected layer\n",
    "- Softmax output activation\n",
    "\n",
    "__IMPORTANT Note__ The sigmoid layer has been replaced by a softmax layer (at the end). This is normal, since we have a multi-class problem.\n",
    "\n",
    "\n",
    "First, we load the MNIST dataset."
   ]
  },
  {
   "cell_type": "code",
   "execution_count": 6,
   "metadata": {
    "colab": {
     "base_uri": "https://localhost:8080/"
    },
    "id": "Z0cGLMKRRHA0",
    "outputId": "eb6b1e98-daf4-4b19-e6bd-ee3b41037639"
   },
   "outputs": [
    {
     "name": "stdout",
     "output_type": "stream",
     "text": [
      "Downloading data from https://storage.googleapis.com/tensorflow/tf-keras-datasets/mnist.npz\n",
      "11490434/11490434 [==============================] - 0s 0us/step\n"
     ]
    }
   ],
   "source": [
    "# Import MNIST data\n",
    "mnist = tf.keras.datasets.mnist\n",
    "(X_train, y_train),(X_test, y_test) = mnist.load_data()\n",
    "\n",
    "Y_train = tf.keras.utils.to_categorical(y_train)  # in order to convert y to a matrix with (num_examples, num_classes) (one-hot encoding)\n",
    "Y_test = tf.keras.utils.to_categorical(y_test)  # in order to convert y to a matrix with (num_examples, num_classes) (one-hot encoding)\n",
    "\n",
    "#reshape the input images : flatten the last two dimensions\n",
    "X_train = np.reshape(X_train,(X_train.shape[0],X_train.shape[1]*X_train.shape[2]))\n",
    "X_test = np.reshape(X_test,(X_test.shape[0],X_test.shape[1]*X_test.shape[2]))\n"
   ]
  },
  {
   "cell_type": "markdown",
   "metadata": {
    "id": "EzMV_9-NRHA1"
   },
   "source": [
    "Finally, fill in the following code to create and train your MLP"
   ]
  },
  {
   "cell_type": "code",
   "execution_count": 7,
   "metadata": {
    "colab": {
     "base_uri": "https://localhost:8080/"
    },
    "id": "2G7AToqyRHA1",
    "outputId": "4f02e448-350c-417e-9fe2-02aefe28b3b5"
   },
   "outputs": [
    {
     "name": "stdout",
     "output_type": "stream",
     "text": [
      "Training\n",
      "Epoch 1/20\n",
      "938/938 [==============================] - 6s 4ms/step - loss: 2.6617 - accuracy: 0.8288\n",
      "Epoch 2/20\n",
      "938/938 [==============================] - 3s 3ms/step - loss: 0.3584 - accuracy: 0.9021\n",
      "Epoch 3/20\n",
      "938/938 [==============================] - 3s 3ms/step - loss: 0.3589 - accuracy: 0.9051\n",
      "Epoch 4/20\n",
      "938/938 [==============================] - 3s 3ms/step - loss: 0.3636 - accuracy: 0.9100\n",
      "Epoch 5/20\n",
      "938/938 [==============================] - 4s 5ms/step - loss: 0.4208 - accuracy: 0.8985\n",
      "Epoch 6/20\n",
      "938/938 [==============================] - 3s 3ms/step - loss: 0.4223 - accuracy: 0.8985\n",
      "Epoch 7/20\n",
      "938/938 [==============================] - 3s 3ms/step - loss: 0.4349 - accuracy: 0.8985\n",
      "Epoch 8/20\n",
      "938/938 [==============================] - 3s 3ms/step - loss: 0.4246 - accuracy: 0.8979\n",
      "Epoch 9/20\n",
      "938/938 [==============================] - 4s 4ms/step - loss: 0.4560 - accuracy: 0.8892\n",
      "Epoch 10/20\n",
      "938/938 [==============================] - 3s 3ms/step - loss: 0.4895 - accuracy: 0.8803\n",
      "Epoch 11/20\n",
      "938/938 [==============================] - 3s 3ms/step - loss: 0.4622 - accuracy: 0.8856\n",
      "Epoch 12/20\n",
      "938/938 [==============================] - 4s 4ms/step - loss: 0.5286 - accuracy: 0.8690\n",
      "Epoch 13/20\n",
      "938/938 [==============================] - 3s 4ms/step - loss: 0.4836 - accuracy: 0.8748\n",
      "Epoch 14/20\n",
      "938/938 [==============================] - 3s 3ms/step - loss: 0.7633 - accuracy: 0.7806\n",
      "Epoch 15/20\n",
      "938/938 [==============================] - 3s 3ms/step - loss: 0.7816 - accuracy: 0.7279\n",
      "Epoch 16/20\n",
      "938/938 [==============================] - 4s 4ms/step - loss: 0.8300 - accuracy: 0.7231\n",
      "Epoch 17/20\n",
      "938/938 [==============================] - 3s 3ms/step - loss: 0.7324 - accuracy: 0.7560\n",
      "Epoch 18/20\n",
      "938/938 [==============================] - 3s 3ms/step - loss: 0.7905 - accuracy: 0.7158\n",
      "Epoch 19/20\n",
      "938/938 [==============================] - 3s 4ms/step - loss: 0.8244 - accuracy: 0.7209\n",
      "Epoch 20/20\n",
      "938/938 [==============================] - 4s 4ms/step - loss: 0.8461 - accuracy: 0.7097\n",
      "Testing\n",
      "313/313 - 1s - loss: 0.8247 - accuracy: 0.6988 - 733ms/epoch - 2ms/step\n"
     ]
    },
    {
     "data": {
      "text/plain": [
       "[0.8247328996658325, 0.6988000273704529]"
      ]
     },
     "execution_count": 7,
     "metadata": {},
     "output_type": "execute_result"
    }
   ],
   "source": [
    "\n",
    "# Network Parameters\n",
    "n_hidden_1 = 256 # 1st layer number of neurons\n",
    "n_hidden_2 = 256 # 2nd layer number of neurons\n",
    "n_hidden_3 = 128 # 2nd layer number of neurons\n",
    "\n",
    "n_input = X_train.shape[1]\n",
    "n_classes = Y_train.shape[1] # MNIST total classes (0-9 digits)\n",
    "\n",
    "# TO CODE BY STUDENTS\n",
    "\n",
    "\n",
    "model_mlp_multi_layer = Sequential([\n",
    "    Dense(n_hidden_1,input_shape=(n_input,),activation='relu'),\n",
    "    Dense(n_hidden_2,input_shape=(n_hidden_1,),activation='relu'),\n",
    "    Dense(n_hidden_3,input_shape=(n_hidden_2,),activation='relu'),\n",
    "    Dense(n_classes,input_shape=(n_hidden_3,),activation='softmax')\n",
    "])\n",
    "\n",
    "# create the loss and optimiser, use 'categorical_crossentropy' in loss\n",
    "learning_rate = 0.01\n",
    "model_mlp_multi_layer.compile(loss=tf.keras.losses.CategoricalCrossentropy(from_logits=False), \n",
    "                  optimizer=tf.keras.optimizers.Adam(learning_rate=learning_rate),\n",
    "                  metrics=[\"accuracy\"])\n",
    "\n",
    "# Run optimisation algorithm\n",
    "n_epochs = 20\n",
    "batch_size = 64\n",
    "\n",
    "print('Training')\n",
    "model_mlp_multi_layer.fit(X_train, Y_train, epochs=n_epochs,batch_size=batch_size)\n",
    "\n",
    "print('Testing')\n",
    "model_mlp_multi_layer.evaluate(X_test,  Y_test, verbose=2)"
   ]
  },
  {
   "cell_type": "code",
   "execution_count": 8,
   "metadata": {
    "id": "s6Q-JntxluxG"
   },
   "outputs": [],
   "source": [
    "# THIS CODE IS GIVEN\n",
    "\n",
    "def test_mnist_images(model_mlp_multi_layer,X_test):\n",
    "  plt.figure(figsize=(10, 6))\n",
    "  for idx in range(0,10):\n",
    "      plt.subplot(2, 5, idx+1)\n",
    "      rand_ind = np.random.randint(0,X_test.shape[0])\n",
    "      plt.imshow(np.reshape(X_test[rand_ind,:],(28,28)),cmap='gray')\n",
    "      # get prediction\n",
    "      model_prediction = np.argmax(model_mlp_multi_layer.predict(np.expand_dims( X_test[rand_ind,:], axis=0)),axis=1)\n",
    "      plt.title(int(model_prediction))"
   ]
  },
  {
   "cell_type": "code",
   "execution_count": 9,
   "metadata": {
    "colab": {
     "base_uri": "https://localhost:8080/",
     "height": 642
    },
    "id": "r2D9RE4apVWW",
    "outputId": "cc564030-06c1-4c75-f312-9af25ac812fc"
   },
   "outputs": [
    {
     "name": "stdout",
     "output_type": "stream",
     "text": [
      "1/1 [==============================] - 0s 56ms/step\n",
      "1/1 [==============================] - 0s 18ms/step\n",
      "1/1 [==============================] - 0s 18ms/step\n",
      "1/1 [==============================] - 0s 18ms/step\n",
      "1/1 [==============================] - 0s 20ms/step\n",
      "1/1 [==============================] - 0s 19ms/step\n",
      "1/1 [==============================] - 0s 19ms/step\n",
      "1/1 [==============================] - 0s 29ms/step\n",
      "1/1 [==============================] - 0s 23ms/step\n",
      "1/1 [==============================] - 0s 22ms/step\n"
     ]
    },
    {
     "data": {
      "image/png": "[encoded data removed]",
      "text/plain": [
       "<Figure size 1000x600 with 10 Axes>"
      ]
     },
     "metadata": {},
     "output_type": "display_data"
    }
   ],
   "source": [
    "test_mnist_images(model_mlp_multi_layer,X_test)"
   ]
  },
  {
   "cell_type": "markdown",
   "metadata": {
    "id": "lItdBVnfu7xK"
   },
   "source": [
    "You may observe some difficulties in getting good performance in this case. To improve training, we can turn to __batch_normalisation__ and __regularisation__"
   ]
  },
  {
   "cell_type": "markdown",
   "metadata": {
    "id": "Vgao_U5XRHA2"
   },
   "source": [
    "## BATCH NORMALISATION\n",
    "\n",
    "One approach to improving the convergence of neural network training which we have seen during the lesson is known as batch normalisation, which we have seen during the lesson. This can be implemented very simply in Tensorflow by adding the following layer :\n",
    "\n",
    "- ```BatchNormalization()```\n",
    "\n",
    "Change your model below, and implement this using your code above"
   ]
  },
  {
   "cell_type": "code",
   "execution_count": 10,
   "metadata": {
    "colab": {
     "base_uri": "https://localhost:8080/"
    },
    "id": "6Ela5-4XRHA2",
    "outputId": "1ccb04b9-8955-414b-f3bc-871a70efdde8"
   },
   "outputs": [
    {
     "name": "stdout",
     "output_type": "stream",
     "text": [
      "Training\n",
      "Epoch 1/20\n",
      "938/938 [==============================] - 8s 6ms/step - loss: 0.2320 - accuracy: 0.9287\n",
      "Epoch 2/20\n",
      "938/938 [==============================] - 5s 5ms/step - loss: 0.1275 - accuracy: 0.9621\n",
      "Epoch 3/20\n",
      "938/938 [==============================] - 6s 6ms/step - loss: 0.1004 - accuracy: 0.9693\n",
      "Epoch 4/20\n",
      "938/938 [==============================] - 5s 5ms/step - loss: 0.0843 - accuracy: 0.9745\n",
      "Epoch 5/20\n",
      "938/938 [==============================] - 6s 6ms/step - loss: 0.0750 - accuracy: 0.9765\n",
      "Epoch 6/20\n",
      "938/938 [==============================] - 5s 5ms/step - loss: 0.0655 - accuracy: 0.9796\n",
      "Epoch 7/20\n",
      "938/938 [==============================] - 6s 6ms/step - loss: 0.0586 - accuracy: 0.9818\n",
      "Epoch 8/20\n",
      "938/938 [==============================] - 5s 5ms/step - loss: 0.0511 - accuracy: 0.9835\n",
      "Epoch 9/20\n",
      "938/938 [==============================] - 5s 5ms/step - loss: 0.0488 - accuracy: 0.9845\n",
      "Epoch 10/20\n",
      "938/938 [==============================] - 6s 6ms/step - loss: 0.0409 - accuracy: 0.9875\n",
      "Epoch 11/20\n",
      "938/938 [==============================] - 5s 5ms/step - loss: 0.0378 - accuracy: 0.9882\n",
      "Epoch 12/20\n",
      "938/938 [==============================] - 6s 6ms/step - loss: 0.0359 - accuracy: 0.9886\n",
      "Epoch 13/20\n",
      "938/938 [==============================] - 5s 5ms/step - loss: 0.0310 - accuracy: 0.9901\n",
      "Epoch 14/20\n",
      "938/938 [==============================] - 6s 6ms/step - loss: 0.0321 - accuracy: 0.9895\n",
      "Epoch 15/20\n",
      "938/938 [==============================] - 5s 5ms/step - loss: 0.0276 - accuracy: 0.9911\n",
      "Epoch 16/20\n",
      "938/938 [==============================] - 5s 6ms/step - loss: 0.0289 - accuracy: 0.9903\n",
      "Epoch 17/20\n",
      "938/938 [==============================] - 6s 6ms/step - loss: 0.0255 - accuracy: 0.9916\n",
      "Epoch 18/20\n",
      "938/938 [==============================] - 5s 5ms/step - loss: 0.0227 - accuracy: 0.9924\n",
      "Epoch 19/20\n",
      "938/938 [==============================] - 6s 6ms/step - loss: 0.0236 - accuracy: 0.9926\n",
      "Epoch 20/20\n",
      "938/938 [==============================] - 5s 5ms/step - loss: 0.0226 - accuracy: 0.9930\n",
      "Testing\n",
      "313/313 - 1s - loss: 0.0991 - accuracy: 0.9803 - 807ms/epoch - 3ms/step\n"
     ]
    },
    {
     "data": {
      "text/plain": [
       "[0.09913831204175949, 0.9803000092506409]"
      ]
     },
     "execution_count": 10,
     "metadata": {},
     "output_type": "execute_result"
    }
   ],
   "source": [
    "from tensorflow.keras.layers import Dense, BatchNormalization\n",
    "\n",
    "# TO CODE BY STUDENTS\n",
    "n_hidden_1 = 256 # 1st layer number of neurons\n",
    "n_hidden_2 = 256 # 2nd layer number of neurons\n",
    "n_hidden_3 = 128 # 2nd layer number of neurons\n",
    "\n",
    "n_input = X_train.shape[1]\n",
    "n_classes = Y_train.shape[1] # MNIST total classes (0-9 digits)\n",
    "\n",
    "model_mlp_multi_layer = Sequential([\n",
    "    Dense(n_hidden_1,input_shape=(n_input,),activation='relu'),\n",
    "    BatchNormalization(),\n",
    "    Dense(n_hidden_2,input_shape=(n_hidden_1,),activation='relu'),\n",
    "    BatchNormalization(),\n",
    "    Dense(n_hidden_3,input_shape=(n_hidden_2,),activation='relu'),\n",
    "    BatchNormalization(),\n",
    "    Dense(n_classes,input_shape=(n_hidden_3,),activation='softmax')\n",
    "])\n",
    "\n",
    "# create the loss and optimiser, use 'categorical_crossentropy' in loss\n",
    "learning_rate = 0.01\n",
    "model_mlp_multi_layer.compile(loss=tf.keras.losses.CategoricalCrossentropy(from_logits=False), \n",
    "                  optimizer=tf.keras.optimizers.Adam(learning_rate=learning_rate),\n",
    "                  metrics=[\"accuracy\"])\n",
    "\n",
    "# Run optimisation algorithm\n",
    "n_epochs = 20\n",
    "batch_size = 64\n",
    "\n",
    "print('Training')\n",
    "model_mlp_multi_layer.fit(X_train, Y_train, epochs=n_epochs,batch_size=batch_size)\n",
    "\n",
    "print('Testing')\n",
    "model_mlp_multi_layer.evaluate(X_test,  Y_test, verbose=2)"
   ]
  },
  {
   "cell_type": "code",
   "execution_count": 11,
   "metadata": {
    "colab": {
     "base_uri": "https://localhost:8080/",
     "height": 642
    },
    "id": "cSxGzvQ3pg3u",
    "outputId": "0891b8fd-3820-4415-dd0b-2735dd58e44d"
   },
   "outputs": [
    {
     "name": "stdout",
     "output_type": "stream",
     "text": [
      "1/1 [==============================] - 0s 112ms/step\n",
      "1/1 [==============================] - 0s 18ms/step\n",
      "1/1 [==============================] - 0s 19ms/step\n",
      "1/1 [==============================] - 0s 23ms/step\n",
      "1/1 [==============================] - 0s 18ms/step\n",
      "1/1 [==============================] - 0s 19ms/step\n",
      "1/1 [==============================] - 0s 18ms/step\n",
      "1/1 [==============================] - 0s 17ms/step\n",
      "1/1 [==============================] - 0s 17ms/step\n",
      "1/1 [==============================] - 0s 18ms/step\n"
     ]
    },
    {
     "data": {
      "image/png": "[encoded data removed]",
      "text/plain": [
       "<Figure size 1000x600 with 10 Axes>"
      ]
     },
     "metadata": {},
     "output_type": "display_data"
    }
   ],
   "source": [
    "test_mnist_images(model_mlp_multi_layer,X_test)"
   ]
  },
  {
   "cell_type": "markdown",
   "metadata": {
    "id": "iQPJDop31Nci"
   },
   "source": [
    "## Dropout\n",
    "\n",
    "Often in the process of training neural networks, there is a difference between the training accuracy and the testing accuracy. This is the problem of overfitting. To alleviate this problem, we can turn to _dropout_:\n",
    "\n",
    "```tf.keras.layers.Dropout(rate,...)```\n",
    "\n",
    "where rate is the probability that an input neuron to a layer will get set to 0. You can do this in any layer. Use the previous architecture and try out the dropout. Set the dropout rate to 0.1 on the first layer as a test. Then try it out on all layers (you may not see a great difference here since the mnist database is relatively simple, this is just to show you how it is done). "
   ]
  },
  {
   "cell_type": "code",
   "execution_count": 12,
   "metadata": {
    "colab": {
     "base_uri": "https://localhost:8080/"
    },
    "id": "x-BF-fpo1PpW",
    "outputId": "42806501-9073-4080-d41f-cc35c706beb1"
   },
   "outputs": [
    {
     "name": "stdout",
     "output_type": "stream",
     "text": [
      "Training\n",
      "Epoch 1/20\n",
      "938/938 [==============================] - 9s 6ms/step - loss: 0.2354 - accuracy: 0.9280\n",
      "Epoch 2/20\n",
      "938/938 [==============================] - 5s 6ms/step - loss: 0.1335 - accuracy: 0.9597\n",
      "Epoch 3/20\n",
      "938/938 [==============================] - 5s 6ms/step - loss: 0.1022 - accuracy: 0.9685\n",
      "Epoch 4/20\n",
      "938/938 [==============================] - 6s 6ms/step - loss: 0.0879 - accuracy: 0.9734\n",
      "Epoch 5/20\n",
      "938/938 [==============================] - 5s 6ms/step - loss: 0.0803 - accuracy: 0.9751\n",
      "Epoch 6/20\n",
      "938/938 [==============================] - 6s 6ms/step - loss: 0.0688 - accuracy: 0.9783\n",
      "Epoch 7/20\n",
      "938/938 [==============================] - 5s 6ms/step - loss: 0.0603 - accuracy: 0.9810\n",
      "Epoch 8/20\n",
      "938/938 [==============================] - 6s 6ms/step - loss: 0.0596 - accuracy: 0.9814\n",
      "Epoch 9/20\n",
      "938/938 [==============================] - 5s 5ms/step - loss: 0.0522 - accuracy: 0.9836\n",
      "Epoch 10/20\n",
      "938/938 [==============================] - 7s 7ms/step - loss: 0.0474 - accuracy: 0.9853\n",
      "Epoch 11/20\n",
      "938/938 [==============================] - 5s 5ms/step - loss: 0.0443 - accuracy: 0.9858\n",
      "Epoch 12/20\n",
      "938/938 [==============================] - 6s 6ms/step - loss: 0.0398 - accuracy: 0.9874\n",
      "Epoch 13/20\n",
      "938/938 [==============================] - 5s 6ms/step - loss: 0.0387 - accuracy: 0.9869\n",
      "Epoch 14/20\n",
      "938/938 [==============================] - 5s 6ms/step - loss: 0.0356 - accuracy: 0.9892\n",
      "Epoch 15/20\n",
      "938/938 [==============================] - 6s 6ms/step - loss: 0.0322 - accuracy: 0.9899\n",
      "Epoch 16/20\n",
      "938/938 [==============================] - 5s 6ms/step - loss: 0.0301 - accuracy: 0.9906\n",
      "Epoch 17/20\n",
      "938/938 [==============================] - 6s 6ms/step - loss: 0.0301 - accuracy: 0.9906\n",
      "Epoch 18/20\n",
      "938/938 [==============================] - 6s 6ms/step - loss: 0.0272 - accuracy: 0.9915\n",
      "Epoch 19/20\n",
      "938/938 [==============================] - 6s 6ms/step - loss: 0.0260 - accuracy: 0.9921\n",
      "Epoch 20/20\n",
      "938/938 [==============================] - 6s 6ms/step - loss: 0.0250 - accuracy: 0.9922\n",
      "Testing\n",
      "313/313 - 1s - loss: 0.1015 - accuracy: 0.9796 - 793ms/epoch - 3ms/step\n"
     ]
    },
    {
     "data": {
      "text/plain": [
       "[0.10152427852153778, 0.9796000123023987]"
      ]
     },
     "execution_count": 12,
     "metadata": {},
     "output_type": "execute_result"
    }
   ],
   "source": [
    "from tensorflow.keras.layers import Dense, BatchNormalization, Dropout\n",
    "\n",
    "# TO CODE BY STUDENTS\n",
    "\n",
    "n_hidden_1 = 256 # 1st layer number of neurons\n",
    "n_hidden_2 = 256 # 2nd layer number of neurons\n",
    "n_hidden_3 = 128 # 2nd layer number of neurons\n",
    "\n",
    "n_input = X_train.shape[1]\n",
    "n_classes = Y_train.shape[1] # MNIST total classes (0-9 digits)\n",
    "\n",
    "model_mlp_multi_layer = Sequential([\n",
    "    Dense(n_hidden_1,input_shape=(n_input,),activation='relu'),\n",
    "    BatchNormalization(),\n",
    "    Dense(n_hidden_2,input_shape=(n_hidden_1,),activation='relu'),\n",
    "    BatchNormalization(),\n",
    "    Dense(n_hidden_3,input_shape=(n_hidden_2,),activation='relu'),\n",
    "    BatchNormalization(),\n",
    "    Dropout(0.2),\n",
    "    Dense(n_classes,input_shape=(n_hidden_3,),activation='softmax')\n",
    "])\n",
    "\n",
    "# create the loss and optimiser, use 'categorical_crossentropy' in loss\n",
    "learning_rate = 0.01\n",
    "model_mlp_multi_layer.compile(loss=tf.keras.losses.CategoricalCrossentropy(from_logits=False), \n",
    "                  optimizer=tf.keras.optimizers.Adam(learning_rate=learning_rate),\n",
    "                  metrics=[\"accuracy\"])\n",
    "\n",
    "# Run optimisation algorithm\n",
    "n_epochs = 20\n",
    "batch_size = 64\n",
    "\n",
    "print('Training')\n",
    "model_mlp_multi_layer.fit(X_train, Y_train, epochs=n_epochs,batch_size=batch_size)\n",
    "\n",
    "print('Testing')\n",
    "model_mlp_multi_layer.evaluate(X_test,  Y_test, verbose=2)"
   ]
  },
  {
   "cell_type": "code",
   "execution_count": 13,
   "metadata": {
    "colab": {
     "base_uri": "https://localhost:8080/",
     "height": 642
    },
    "id": "eaAJDNYbW1yY",
    "outputId": "153b9ecb-9095-4d61-ccd2-7d7b3998b78b"
   },
   "outputs": [
    {
     "name": "stdout",
     "output_type": "stream",
     "text": [
      "1/1 [==============================] - 0s 93ms/step\n",
      "1/1 [==============================] - 0s 21ms/step\n",
      "1/1 [==============================] - 0s 19ms/step\n",
      "1/1 [==============================] - 0s 18ms/step\n",
      "1/1 [==============================] - 0s 19ms/step\n",
      "1/1 [==============================] - 0s 21ms/step\n",
      "1/1 [==============================] - 0s 18ms/step\n",
      "1/1 [==============================] - 0s 19ms/step\n",
      "1/1 [==============================] - 0s 18ms/step\n",
      "1/1 [==============================] - 0s 17ms/step\n"
     ]
    },
    {
     "data": {
      "image/png": "[encoded data removed]",
      "text/plain": [
       "<Figure size 1000x600 with 10 Axes>"
      ]
     },
     "metadata": {},
     "output_type": "display_data"
    }
   ],
   "source": [
    "test_mnist_images(model_mlp_multi_layer,X_test)"
   ]
  },
  {
   "cell_type": "markdown",
   "metadata": {
    "id": "Y2CWgKZeRHA2"
   },
   "source": [
    "#### Documentation:\n",
    "\n",
    "  - http://www.tensorflow.org\n",
    "  - http://www.deeplearningbook.org/"
   ]
  }
 ],
 "metadata": {
  "accelerator": "GPU",
  "colab": {
   "include_colab_link": true,
   "provenance": []
  },
  "kernelspec": {
   "display_name": "Python 3 (ipykernel)",
   "language": "python",
   "name": "python3"
  },
  "language_info": {
   "codemirror_mode": {
    "name": "ipython",
    "version": 3
   },
   "file_extension": ".py",
   "mimetype": "text/x-python",
   "name": "python",
   "nbconvert_exporter": "python",
   "pygments_lexer": "ipython3",
   "version": "3.9.16"
  }
 },
 "nbformat": 4,
 "nbformat_minor": 1
}
